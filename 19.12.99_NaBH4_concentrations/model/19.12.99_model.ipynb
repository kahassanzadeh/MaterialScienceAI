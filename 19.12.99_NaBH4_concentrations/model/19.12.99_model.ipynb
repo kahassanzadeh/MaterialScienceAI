{
 "cells": [
  {
   "cell_type": "code",
   "execution_count": 24,
   "metadata": {},
   "outputs": [],
   "source": [
    "import numpy as np\n",
    "import pandas as pd\n",
    "import matplotlib.pyplot as plt\n",
    "import seaborn as sb"
   ]
  },
  {
   "cell_type": "code",
   "execution_count": 25,
   "metadata": {},
   "outputs": [
    {
     "data": {
      "text/html": [
       "<div>\n",
       "<style scoped>\n",
       "    .dataframe tbody tr th:only-of-type {\n",
       "        vertical-align: middle;\n",
       "    }\n",
       "\n",
       "    .dataframe tbody tr th {\n",
       "        vertical-align: top;\n",
       "    }\n",
       "\n",
       "    .dataframe thead th {\n",
       "        text-align: right;\n",
       "    }\n",
       "</style>\n",
       "<table border=\"1\" class=\"dataframe\">\n",
       "  <thead>\n",
       "    <tr style=\"text-align: right;\">\n",
       "      <th></th>\n",
       "      <th>NaBH4 Concentrations</th>\n",
       "      <th>absolute maximum</th>\n",
       "      <th>absolute maximum wavelength</th>\n",
       "      <th>integral</th>\n",
       "    </tr>\n",
       "  </thead>\n",
       "  <tbody>\n",
       "    <tr>\n",
       "      <th>0</th>\n",
       "      <td>0.15</td>\n",
       "      <td>0.094</td>\n",
       "      <td>396.0</td>\n",
       "      <td>24.236</td>\n",
       "    </tr>\n",
       "    <tr>\n",
       "      <th>1</th>\n",
       "      <td>0.25</td>\n",
       "      <td>0.099</td>\n",
       "      <td>405.0</td>\n",
       "      <td>16.095</td>\n",
       "    </tr>\n",
       "    <tr>\n",
       "      <th>2</th>\n",
       "      <td>0.25</td>\n",
       "      <td>0.265</td>\n",
       "      <td>415.5</td>\n",
       "      <td>54.835</td>\n",
       "    </tr>\n",
       "    <tr>\n",
       "      <th>3</th>\n",
       "      <td>0.35</td>\n",
       "      <td>0.297</td>\n",
       "      <td>402.0</td>\n",
       "      <td>48.465</td>\n",
       "    </tr>\n",
       "    <tr>\n",
       "      <th>4</th>\n",
       "      <td>0.53</td>\n",
       "      <td>0.496</td>\n",
       "      <td>406.5</td>\n",
       "      <td>71.323</td>\n",
       "    </tr>\n",
       "    <tr>\n",
       "      <th>5</th>\n",
       "      <td>0.53</td>\n",
       "      <td>0.551</td>\n",
       "      <td>410.5</td>\n",
       "      <td>74.040</td>\n",
       "    </tr>\n",
       "    <tr>\n",
       "      <th>6</th>\n",
       "      <td>0.75</td>\n",
       "      <td>0.510</td>\n",
       "      <td>420.5</td>\n",
       "      <td>80.318</td>\n",
       "    </tr>\n",
       "    <tr>\n",
       "      <th>7</th>\n",
       "      <td>0.75</td>\n",
       "      <td>0.567</td>\n",
       "      <td>403.5</td>\n",
       "      <td>72.131</td>\n",
       "    </tr>\n",
       "    <tr>\n",
       "      <th>8</th>\n",
       "      <td>1.06</td>\n",
       "      <td>0.538</td>\n",
       "      <td>409.5</td>\n",
       "      <td>76.288</td>\n",
       "    </tr>\n",
       "    <tr>\n",
       "      <th>9</th>\n",
       "      <td>1.06</td>\n",
       "      <td>0.567</td>\n",
       "      <td>402.5</td>\n",
       "      <td>71.907</td>\n",
       "    </tr>\n",
       "    <tr>\n",
       "      <th>10</th>\n",
       "      <td>1.25</td>\n",
       "      <td>0.610</td>\n",
       "      <td>402.0</td>\n",
       "      <td>71.089</td>\n",
       "    </tr>\n",
       "  </tbody>\n",
       "</table>\n",
       "</div>"
      ],
      "text/plain": [
       "    NaBH4 Concentrations  absolute maximum  absolute maximum wavelength  \\\n",
       "0                   0.15             0.094                        396.0   \n",
       "1                   0.25             0.099                        405.0   \n",
       "2                   0.25             0.265                        415.5   \n",
       "3                   0.35             0.297                        402.0   \n",
       "4                   0.53             0.496                        406.5   \n",
       "5                   0.53             0.551                        410.5   \n",
       "6                   0.75             0.510                        420.5   \n",
       "7                   0.75             0.567                        403.5   \n",
       "8                   1.06             0.538                        409.5   \n",
       "9                   1.06             0.567                        402.5   \n",
       "10                  1.25             0.610                        402.0   \n",
       "\n",
       "    integral  \n",
       "0     24.236  \n",
       "1     16.095  \n",
       "2     54.835  \n",
       "3     48.465  \n",
       "4     71.323  \n",
       "5     74.040  \n",
       "6     80.318  \n",
       "7     72.131  \n",
       "8     76.288  \n",
       "9     71.907  \n",
       "10    71.089  "
      ]
     },
     "execution_count": 25,
     "metadata": {},
     "output_type": "execute_result"
    }
   ],
   "source": [
    "data = pd.read_csv('data.csv')\n",
    "data"
   ]
  },
  {
   "cell_type": "code",
   "execution_count": 29,
   "metadata": {},
   "outputs": [
    {
     "data": {
      "text/plain": [
       "0     0.15\n",
       "1     0.25\n",
       "2     0.25\n",
       "3     0.35\n",
       "4     0.53\n",
       "5     0.53\n",
       "6     0.75\n",
       "7     0.75\n",
       "8     1.06\n",
       "9     1.06\n",
       "10    1.25\n",
       "Name: NaBH4 Concentrations, dtype: float64"
      ]
     },
     "execution_count": 29,
     "metadata": {},
     "output_type": "execute_result"
    }
   ],
   "source": [
    "concentration = data.iloc[:,0]\n",
    "abs_max=data.iloc[:,1]\n",
    "abs_max_waveLength = data.iloc[:,2]\n",
    "integral = data.iloc[:,3]\n",
    "concentration"
   ]
  },
  {
   "cell_type": "code",
   "execution_count": 41,
   "metadata": {},
   "outputs": [
    {
     "data": {
      "image/png": "[encoded data removed]",
      "text/plain": [
       "<Figure size 432x288 with 1 Axes>"
      ]
     },
     "metadata": {
      "needs_background": "light"
     },
     "output_type": "display_data"
    }
   ],
   "source": [
    "plt.scatter(concentration,abs_max)\n",
    "plt.xlabel('concentration')\n",
    "plt.ylabel('abs_max')\n",
    "plt.show()"
   ]
  },
  {
   "cell_type": "code",
   "execution_count": 32,
   "metadata": {},
   "outputs": [],
   "source": [
    "x = data.iloc[:,1:]\n",
    "y = data.iloc[:,0]\n",
    "\n",
    "from sklearn.model_selection import train_test_split\n",
    "X_train, X_test, y_train, y_test = train_test_split(x, y, test_size = 0.33)"
   ]
  },
  {
   "cell_type": "code",
   "execution_count": 33,
   "metadata": {},
   "outputs": [],
   "source": [
    "from sklearn.preprocessing import StandardScaler\n",
    "sc = StandardScaler()\n",
    "X_train = sc.fit_transform(X_train)\n",
    "X_test = sc.transform(X_test)"
   ]
  },
  {
   "cell_type": "code",
   "execution_count": 44,
   "metadata": {},
   "outputs": [
    {
     "data": {
      "text/plain": [
       "LinearRegression(fit_intercept=False)"
      ]
     },
     "execution_count": 44,
     "metadata": {},
     "output_type": "execute_result"
    }
   ],
   "source": [
    "from sklearn.linear_model import LinearRegression\n",
    "lr = LinearRegression(fit_intercept=False)\n",
    "lr.fit(X_train,y_train)"
   ]
  },
  {
   "cell_type": "code",
   "execution_count": 45,
   "metadata": {},
   "outputs": [
    {
     "data": {
      "text/plain": [
       "array([ 0.28772925,  0.41218207, -0.31630405,  0.29588832])"
      ]
     },
     "execution_count": 45,
     "metadata": {},
     "output_type": "execute_result"
    }
   ],
   "source": [
    "y_pred = lr.predict(X_test)\n",
    "y_pred"
   ]
  },
  {
   "cell_type": "code",
   "execution_count": 46,
   "metadata": {},
   "outputs": [
    {
     "name": "stdout",
     "output_type": "stream",
     "text": [
      "-1.5918532693528946\n",
      "0.41630023230687524\n"
     ]
    }
   ],
   "source": [
    "from sklearn.metrics import r2_score,mean_squared_error\n",
    "print(r2_score(y_test,y_pred))\n",
    "print(mean_squared_error(y_test,y_pred))"
   ]
  },
  {
   "cell_type": "code",
   "execution_count": 47,
   "metadata": {},
   "outputs": [
    {
     "data": {
      "text/plain": [
       "array([ 0.42684147,  0.05345084, -0.19217769])"
      ]
     },
     "execution_count": 47,
     "metadata": {},
     "output_type": "execute_result"
    }
   ],
   "source": [
    "lr.coef_"
   ]
  },
  {
   "cell_type": "code",
   "execution_count": 53,
   "metadata": {},
   "outputs": [],
   "source": [
    "y_est = lr.coef_[0] * abs_max\n"
   ]
  },
  {
   "cell_type": "code",
   "execution_count": 54,
   "metadata": {},
   "outputs": [
    {
     "data": {
      "text/plain": [
       "[<matplotlib.lines.Line2D at 0x24b8091a100>]"
      ]
     },
     "execution_count": 54,
     "metadata": {},
     "output_type": "execute_result"
    },
    {
     "data": {
      "image/png": "[encoded data removed]",
      "text/plain": [
       "<Figure size 432x288 with 1 Axes>"
      ]
     },
     "metadata": {
      "needs_background": "light"
     },
     "output_type": "display_data"
    }
   ],
   "source": [
    "fig, ax = plt.subplots()\n",
    "ax.plot( abs_max, y_est, '-')\n",
    "\n",
    "ax.plot(abs_max, concentration, 'o', color='tab:brown')"
   ]
  },
  {
   "cell_type": "code",
   "execution_count": 55,
   "metadata": {},
   "outputs": [],
   "source": [
    "import tensorflow as tf\n"
   ]
  },
  {
   "cell_type": "code",
   "execution_count": 62,
   "metadata": {},
   "outputs": [],
   "source": [
    "dpModel = tf.keras.models.Sequential()\n",
    "\n",
    "dpModel.add(tf.keras.layers.Dense(units = 3,activation = 'relu'))\n",
    "dpModel.add(tf.keras.layers.Dense(units = 4,activation = 'relu'))\n",
    "dpModel.add(tf.keras.layers.Dense(units = 1,activation = 'relu'))\n",
    "\n",
    "dpModel.compile(optimizer = 'adam',loss = 'mean_squared_error',metrics = 'accuracy')"
   ]
  },
  {
   "cell_type": "code",
   "execution_count": 63,
   "metadata": {},
   "outputs": [
    {
     "name": "stdout",
     "output_type": "stream",
     "text": [
      "Epoch 1/6\n",
      "7/7 [==============================] - 0s 998us/step - loss: 0.3899 - accuracy: 0.0000e+00\n",
      "Epoch 2/6\n",
      "7/7 [==============================] - 0s 1ms/step - loss: 0.3879 - accuracy: 0.0000e+00\n",
      "Epoch 3/6\n",
      "7/7 [==============================] - 0s 1ms/step - loss: 0.3857 - accuracy: 0.0000e+00\n",
      "Epoch 4/6\n",
      "7/7 [==============================] - 0s 1ms/step - loss: 0.3831 - accuracy: 0.0000e+00\n",
      "Epoch 5/6\n",
      "7/7 [==============================] - 0s 1ms/step - loss: 0.3810 - accuracy: 0.0000e+00\n",
      "Epoch 6/6\n",
      "7/7 [==============================] - 0s 1ms/step - loss: 0.3783 - accuracy: 0.0000e+00\n"
     ]
    },
    {
     "data": {
      "text/plain": [
       "<tensorflow.python.keras.callbacks.History at 0x24b89361a60>"
      ]
     },
     "execution_count": 63,
     "metadata": {},
     "output_type": "execute_result"
    }
   ],
   "source": [
    "dpModel.fit(X_train,y_train,batch_size = 1,epochs = 6)"
   ]
  },
  {
   "cell_type": "code",
   "execution_count": 83,
   "metadata": {},
   "outputs": [
    {
     "data": {
      "text/plain": [
       "array([[0.        ],\n",
       "       [0.03135896],\n",
       "       [0.        ],\n",
       "       [0.03135896]], dtype=float32)"
      ]
     },
     "execution_count": 83,
     "metadata": {},
     "output_type": "execute_result"
    }
   ],
   "source": [
    "y_pred_dp = dpModel.predict(X_test)\n",
    "y_pred_dp"
   ]
  },
  {
   "cell_type": "code",
   "execution_count": 217,
   "metadata": {},
   "outputs": [],
   "source": [
    "X = np.array([0.094,0.265,0.297,0.5235,0.5385,0.567,0.61]).reshape(-1,1)\n",
    "y = np.array([0.15,0.25,0.35,0.53,0.75,1.06,1.25])"
   ]
  },
  {
   "cell_type": "code",
   "execution_count": 211,
   "metadata": {},
   "outputs": [],
   "source": [
    "X = abs_max.values.reshape(-1,1)\n",
    "y = concentration.values"
   ]
  },
  {
   "cell_type": "code",
   "execution_count": 218,
   "metadata": {},
   "outputs": [
    {
     "data": {
      "text/plain": [
       "LinearRegression()"
      ]
     },
     "execution_count": 218,
     "metadata": {},
     "output_type": "execute_result"
    }
   ],
   "source": [
    "from sklearn.preprocessing import PolynomialFeatures\n",
    "\n",
    "poly = PolynomialFeatures(degree = 2) \n",
    "X_poly = poly.fit_transform(X) \n",
    "  \n",
    "poly.fit(X_poly, y) \n",
    "lin2 = LinearRegression() \n",
    "lin2.fit(X_poly, y) "
   ]
  },
  {
   "cell_type": "code",
   "execution_count": 220,
   "metadata": {},
   "outputs": [
    {
     "data": {
      "image/png": "[encoded data removed]",
      "text/plain": [
       "<Figure size 432x288 with 1 Axes>"
      ]
     },
     "metadata": {
      "needs_background": "light"
     },
     "output_type": "display_data"
    }
   ],
   "source": [
    "import matplotlib.pyplot as plt\n",
    "plt.figure()\n",
    "plt.scatter(X,y)\n",
    "plt.plot(X,lin2.predict(poly.fit_transform(X)),color=\"black\")\n",
    "plt.title(\"Polynomial regression with degree \"+str(degree))\n",
    "plt.xlabel('abs_max')\n",
    "plt.ylabel('concentration')\n",
    "plt.show()"
   ]
  },
  {
   "cell_type": "code",
   "execution_count": 221,
   "metadata": {},
   "outputs": [
    {
     "data": {
      "text/plain": [
       "0.889596982118182"
      ]
     },
     "execution_count": 221,
     "metadata": {},
     "output_type": "execute_result"
    }
   ],
   "source": [
    "lin2.score(X_poly,y)\n"
   ]
  },
  {
   "cell_type": "code",
   "execution_count": null,
   "metadata": {},
   "outputs": [],
   "source": []
  },
  {
   "cell_type": "code",
   "execution_count": 136,
   "metadata": {},
   "outputs": [
    {
     "name": "stdout",
     "output_type": "stream",
     "text": [
      "0.314793286048459\n"
     ]
    },
    {
     "data": {
      "text/plain": [
       "array([ 0.        , -1.672553  ,  4.82433019])"
      ]
     },
     "execution_count": 136,
     "metadata": {},
     "output_type": "execute_result"
    }
   ],
   "source": [
    "print(lin2.intercept_)\n",
    "lin2.coef_"
   ]
  },
  {
   "cell_type": "code",
   "execution_count": null,
   "metadata": {},
   "outputs": [],
   "source": []
  }
 ],
 "metadata": {
  "kernelspec": {
   "display_name": "Python 3",
   "language": "python",
   "name": "python3"
  },
  "language_info": {
   "codemirror_mode": {
    "name": "ipython",
    "version": 3
   },
   "file_extension": ".py",
   "mimetype": "text/x-python",
   "name": "python",
   "nbconvert_exporter": "python",
   "pygments_lexer": "ipython3",
   "version": "3.8.3"
  }
 },
 "nbformat": 4,
 "nbformat_minor": 4
}
